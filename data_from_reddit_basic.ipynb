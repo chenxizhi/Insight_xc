{
 "cells": [
  {
   "cell_type": "code",
   "execution_count": 1,
   "metadata": {},
   "outputs": [],
   "source": [
    "import praw\n",
    "from psaw import PushshiftAPI\n",
    "from psaw import PushshiftAPI"
   ]
  },
  {
   "cell_type": "code",
   "execution_count": 2,
   "metadata": {},
   "outputs": [],
   "source": [
    "reddit = praw.Reddit(client_id='8phB0nj63JL63Q',\n",
    "                     client_secret='AdfCPSdSrnwNL2E33rtobeg47DU',\n",
    "                     user_agent='my_webapp'\n",
    "                    )\n",
    "api = PushshiftAPI(reddit)\n",
    "\n"
   ]
  },
  {
   "cell_type": "code",
   "execution_count": 3,
   "metadata": {},
   "outputs": [],
   "source": [
    "import datetime as dt\n",
    "\n",
    "#start_epoch = int(dt.datetime(2017, 1, 1).timestamp())\n",
    "end_epoch = int(dt.datetime(2013, 12, 12).timestamp())"
   ]
  },
  {
   "cell_type": "markdown",
   "metadata": {},
   "source": [
    "Find most informative subreddits about startup"
   ]
  },
  {
   "cell_type": "code",
   "execution_count": 4,
   "metadata": {},
   "outputs": [
    {
     "data": {
      "text/plain": [
       "Subreddit(display_name='technology')"
      ]
     },
     "execution_count": 4,
     "metadata": {},
     "output_type": "execute_result"
    }
   ],
   "source": [
    "gen = api.search_comments(q='startup',\n",
    "                          before=end_epoch,\n",
    "                          aggs='subreddit',\n",
    "                          frequency='day',\n",
    "                          size=0,\n",
    "                         )\n",
    "\n",
    "result = next(gen)\n",
    "result.subreddit"
   ]
  },
  {
   "cell_type": "markdown",
   "metadata": {},
   "source": [
    "get frequency of comapany per day"
   ]
  },
  {
   "cell_type": "code",
   "execution_count": null,
   "metadata": {},
   "outputs": [],
   "source": [
    "company = 'ox_data'\n",
    "gen_company = api.search_comments(q=company,\n",
    "                          before=end_epoch,\n",
    "                          aggs='created_utc',\n",
    "                          frequency='day',\n",
    "                          size=0,subreddit='technology'\n",
    "                         )\n",
    "\n",
    "result = list(gen)\n",
    "result\n"
   ]
  },
  {
   "cell_type": "raw",
   "metadata": {},
   "source": [
    "print(reddit.read_only)"
   ]
  },
  {
   "cell_type": "code",
   "execution_count": null,
   "metadata": {},
   "outputs": [],
   "source": []
  }
 ],
 "metadata": {
  "kernelspec": {
   "display_name": "Python 3",
   "language": "python",
   "name": "python3"
  },
  "language_info": {
   "codemirror_mode": {
    "name": "ipython",
    "version": 3
   },
   "file_extension": ".py",
   "mimetype": "text/x-python",
   "name": "python",
   "nbconvert_exporter": "python",
   "pygments_lexer": "ipython3",
   "version": "3.6.5"
  }
 },
 "nbformat": 4,
 "nbformat_minor": 2
}
