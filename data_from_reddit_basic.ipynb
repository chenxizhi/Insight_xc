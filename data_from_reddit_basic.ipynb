{
 "cells": [
  {
   "cell_type": "code",
   "execution_count": 1,
   "metadata": {},
   "outputs": [],
   "source": [
    "from psaw import PushshiftAPI"
   ]
  },
  {
   "cell_type": "markdown",
   "metadata": {},
   "source": [
    "import praw\n",
    "reddit = praw.Reddit(client_id='8phB0nj63JL63Q',\n",
    "                     client_secret='AdfCPSdSrnwNL2E33rtobeg47DU',\n",
    "                     user_agent='my_webapp'\n",
    "                    )\n",
    "api = PushshiftAPI(reddit)\n"
   ]
  },
  {
   "cell_type": "code",
   "execution_count": 2,
   "metadata": {},
   "outputs": [],
   "source": [
    "api = PushshiftAPI()"
   ]
  },
  {
   "cell_type": "code",
   "execution_count": 3,
   "metadata": {},
   "outputs": [
    {
     "data": {
      "text/plain": [
       "1380600000"
      ]
     },
     "execution_count": 3,
     "metadata": {},
     "output_type": "execute_result"
    }
   ],
   "source": [
    "import datetime as dt\n",
    "\n",
    "#start_epoch = int(dt.datetime(2017, 1, 1).timestamp())\n",
    "end_epoch = int(dt.datetime(2013, 10, 1).timestamp())\n",
    "end_epoch"
   ]
  },
  {
   "cell_type": "markdown",
   "metadata": {},
   "source": [
    "Find most informative subreddits about startup"
   ]
  },
  {
   "cell_type": "code",
   "execution_count": 8,
   "metadata": {},
   "outputs": [
    {
     "name": "stdout",
     "output_type": "stream",
     "text": [
      "business\n"
     ]
    }
   ],
   "source": [
    "gen = api.search_comments(q='startup',\n",
    "                          before=end_epoch,\n",
    "                          aggs='subreddit',\n",
    "                          frequency='day',\n",
    "                          size=0,\n",
    "                         )\n",
    "\n",
    "result = next(gen)\n",
    "print(result.subreddit)"
   ]
  },
  {
   "cell_type": "markdown",
   "metadata": {},
   "source": [
    "Grab comments containing company name in business subreddit"
   ]
  },
  {
   "cell_type": "code",
   "execution_count": 55,
   "metadata": {
    "scrolled": true
   },
   "outputs": [
    {
     "data": {
      "text/plain": [
       "'Oracle 11i and Discoverer. Manufacturing jack of all trades. Master Scheduling by trade everything from AP and GL to Eng in practice. '"
      ]
     },
     "execution_count": 55,
     "metadata": {},
     "output_type": "execute_result"
    }
   ],
   "source": [
    "company = '11i'\n",
    "gen_company = api.search_comments(q=company,\n",
    "                          before=end_epoch,\n",
    "                       #   aggs='created_utc',\n",
    "                       #   frequency='day',\n",
    "                       #   size=0,\n",
    "                         subreddit='business'\n",
    "                         )\n",
    "\n",
    "\n",
    "result_company = list(gen_company)\n",
    "#result_company.body\n",
    "result_company[0][12]['body']\n"
   ]
  },
  {
   "cell_type": "code",
   "execution_count": null,
   "metadata": {},
   "outputs": [],
   "source": [
    "comments = []\n",
    "for company in company_names:\n",
    "    gen_company = api.search_comments(q=company,\n",
    "                                      before=end_epoch,\n",
    "                                      subreddit='business')\n",
    "    result_company = list(gen_company)\n",
    "    num_comments = len(result_company)\n",
    "    if num_comments > 1:\n",
    "        for i in range(0,num_comments-1):\n",
    "                comments.append(result_company[i].d_['body'])\n",
    "    else:\n",
    "        comments = result_company[0][12]['body']\n",
    "    to_write = [company, num_comments, comments]\n",
    "    reddit.write(\"\\t\".join(to_write)+\"\\n\"))\n",
    "                "
   ]
  },
  {
   "cell_type": "markdown",
   "metadata": {},
   "source": [
    "Grab submission containing company name"
   ]
  },
  {
   "cell_type": "code",
   "execution_count": 87,
   "metadata": {},
   "outputs": [
    {
     "data": {
      "text/plain": [
       "[submission(author='Jobsbridge321', author_flair_css_class=None, author_flair_text=None, created_utc=1363720630, domain='jobsbridge.com', full_link='https://www.reddit.com/r/technology/comments/1am01a/oracle_applications_11i_hrms_developer/', id='1am01a', is_self=False, mod_reports=[], num_comments=0, over_18=False, permalink='/r/technology/comments/1am01a/oracle_applications_11i_hrms_developer/', report_reasons=None, retrieved_on=1412964636, score=1, stickied=False, subreddit='technology', subreddit_id='t5_2qh16', thumbnail='default', title='Oracle Applications 11i HRMS Developer', url='http://jobsbridge.com/JobSearch/View.aspx?JobId=27987', user_reports=[], created=1363735030.0, d_={'author': 'Jobsbridge321', 'author_flair_css_class': None, 'author_flair_text': None, 'created_utc': 1363720630, 'domain': 'jobsbridge.com', 'full_link': 'https://www.reddit.com/r/technology/comments/1am01a/oracle_applications_11i_hrms_developer/', 'id': '1am01a', 'is_self': False, 'mod_reports': [], 'num_comments': 0, 'over_18': False, 'permalink': '/r/technology/comments/1am01a/oracle_applications_11i_hrms_developer/', 'report_reasons': None, 'retrieved_on': 1412964636, 'score': 1, 'stickied': False, 'subreddit': 'technology', 'subreddit_id': 't5_2qh16', 'thumbnail': 'default', 'title': 'Oracle Applications 11i HRMS Developer', 'url': 'http://jobsbridge.com/JobSearch/View.aspx?JobId=27987', 'user_reports': [], 'created': 1363735030.0}),\n",
       " submission(author='[deleted]', author_flair_css_class=None, author_flair_text=None, created_utc=1239917973, domain='remoteunix.com', full_link='https://www.reddit.com/r/technology/comments/8d2r8/hpux_11i_v3_update_4_to_be_released_tomorrow/', id='8d2r8', is_self=False, num_comments=1, over_18=False, permalink='/r/technology/comments/8d2r8/hpux_11i_v3_update_4_to_be_released_tomorrow/', score=2, subreddit='technology', subreddit_id='t5_2qh16', thumbnail='default', title='HP-UX 11i v3 Update 4 To Be Released Tomorrow', url='http://remoteunix.com/index.php/home/1291-HP-UX%2011i%20v3%20Update%204%20To%20Be%20Released%20Tomorrow', created=1239932373.0, d_={'author': '[deleted]', 'author_flair_css_class': None, 'author_flair_text': None, 'created_utc': 1239917973, 'domain': 'remoteunix.com', 'full_link': 'https://www.reddit.com/r/technology/comments/8d2r8/hpux_11i_v3_update_4_to_be_released_tomorrow/', 'id': '8d2r8', 'is_self': False, 'num_comments': 1, 'over_18': False, 'permalink': '/r/technology/comments/8d2r8/hpux_11i_v3_update_4_to_be_released_tomorrow/', 'score': 2, 'subreddit': 'technology', 'subreddit_id': 't5_2qh16', 'thumbnail': 'default', 'title': 'HP-UX 11i v3 Update 4 To Be Released Tomorrow', 'url': 'http://remoteunix.com/index.php/home/1291-HP-UX%2011i%20v3%20Update%204%20To%20Be%20Released%20Tomorrow', 'created': 1239932373.0}),\n",
       " submission(author='loftonjustin', author_flair_css_class=None, author_flair_text=None, created_utc=1205333597, domain='tredent.com', full_link='https://www.reddit.com/r/technology/comments/6bsp6/riverbeds_wan_acceleration_solution_addresses/', id='6bsp6', is_self=False, num_comments=1, over_18=False, permalink='/r/technology/comments/6bsp6/riverbeds_wan_acceleration_solution_addresses/', score=1, subreddit='technology', subreddit_id='t5_2qh16', thumbnail='default', title='Riverbed’s WAN Acceleration Solution addresses Disaster Recovery, Security and Application Acceleration for Oracle 11i', url='http://www.tredent.com/blog/riverbed’s-wan-acceleration-solution-addresses-disaster-recovery-security-and-application-acceleration-for-oracle-11i/', created=1205347997.0, d_={'author': 'loftonjustin', 'author_flair_css_class': None, 'author_flair_text': None, 'created_utc': 1205333597, 'domain': 'tredent.com', 'full_link': 'https://www.reddit.com/r/technology/comments/6bsp6/riverbeds_wan_acceleration_solution_addresses/', 'id': '6bsp6', 'is_self': False, 'num_comments': 1, 'over_18': False, 'permalink': '/r/technology/comments/6bsp6/riverbeds_wan_acceleration_solution_addresses/', 'score': 1, 'subreddit': 'technology', 'subreddit_id': 't5_2qh16', 'thumbnail': 'default', 'title': 'Riverbed’s WAN Acceleration Solution addresses Disaster Recovery, Security and Application Acceleration for Oracle 11i', 'url': 'http://www.tredent.com/blog/riverbed’s-wan-acceleration-solution-addresses-disaster-recovery-security-and-application-acceleration-for-oracle-11i/', 'created': 1205347997.0})]"
      ]
     },
     "execution_count": 87,
     "metadata": {},
     "output_type": "execute_result"
    }
   ],
   "source": [
    "company = '11i'\n",
    "gen_company2 = api.search_submissions(q=company,before=end_epoch, subreddit='technology',\n",
    "                         )\n",
    "\n",
    "result_company2 =list(gen_company2)\n",
    "result_company2\n"
   ]
  },
  {
   "cell_type": "code",
   "execution_count": 29,
   "metadata": {},
   "outputs": [],
   "source": [
    "#url = result_submission.full_link\n",
    "\n",
    "#url"
   ]
  },
  {
   "cell_type": "code",
   "execution_count": 49,
   "metadata": {},
   "outputs": [],
   "source": [
    "import praw \n",
    "reddit = praw.Reddit(client_id='8phB0nj63JL63Q', \n",
    "                     client_secret='AdfCPSdSrnwNL2E33rtobeg47DU', \n",
    "                     user_agent='my_webapp'\n",
    "                    ) \n"
   ]
  },
  {
   "cell_type": "code",
   "execution_count": 101,
   "metadata": {},
   "outputs": [
    {
     "ename": "IndexError",
     "evalue": "list index out of range",
     "output_type": "error",
     "traceback": [
      "\u001b[0;31m---------------------------------------------------------------------------\u001b[0m",
      "\u001b[0;31mIndexError\u001b[0m                                Traceback (most recent call last)",
      "\u001b[0;32m<ipython-input-101-3994875a5313>\u001b[0m in \u001b[0;36m<module>\u001b[0;34m()\u001b[0m\n\u001b[1;32m      1\u001b[0m \u001b[0msubmission_test\u001b[0m \u001b[0;34m=\u001b[0m \u001b[0mreddit\u001b[0m\u001b[0;34m.\u001b[0m\u001b[0msubmission\u001b[0m\u001b[0;34m(\u001b[0m\u001b[0murl\u001b[0m\u001b[0;34m=\u001b[0m\u001b[0;34m'https://www.reddit.com/r/technology/comments/8d2r8/hpux_11i_v3_update_4_to_be_released_tomorrow/'\u001b[0m\u001b[0;34m)\u001b[0m\u001b[0;34m\u001b[0m\u001b[0m\n\u001b[1;32m      2\u001b[0m \u001b[0;34m\u001b[0m\u001b[0m\n\u001b[0;32m----> 3\u001b[0;31m \u001b[0msubmission_test\u001b[0m\u001b[0;34m.\u001b[0m\u001b[0mcomments\u001b[0m\u001b[0;34m[\u001b[0m\u001b[0;36m0\u001b[0m\u001b[0;34m]\u001b[0m\u001b[0;34m\u001b[0m\u001b[0m\n\u001b[0m",
      "\u001b[0;32m~/anaconda3/envs/insight/lib/python3.6/site-packages/praw/models/comment_forest.py\u001b[0m in \u001b[0;36m__getitem__\u001b[0;34m(self, index)\u001b[0m\n\u001b[1;32m     48\u001b[0m \u001b[0;34m\u001b[0m\u001b[0m\n\u001b[1;32m     49\u001b[0m         \"\"\"\n\u001b[0;32m---> 50\u001b[0;31m         \u001b[0;32mreturn\u001b[0m \u001b[0mself\u001b[0m\u001b[0;34m.\u001b[0m\u001b[0m_comments\u001b[0m\u001b[0;34m[\u001b[0m\u001b[0mindex\u001b[0m\u001b[0;34m]\u001b[0m\u001b[0;34m\u001b[0m\u001b[0m\n\u001b[0m\u001b[1;32m     51\u001b[0m \u001b[0;34m\u001b[0m\u001b[0m\n\u001b[1;32m     52\u001b[0m     \u001b[0;32mdef\u001b[0m \u001b[0m__init__\u001b[0m\u001b[0;34m(\u001b[0m\u001b[0mself\u001b[0m\u001b[0;34m,\u001b[0m \u001b[0msubmission\u001b[0m\u001b[0;34m,\u001b[0m \u001b[0mcomments\u001b[0m\u001b[0;34m=\u001b[0m\u001b[0;32mNone\u001b[0m\u001b[0;34m)\u001b[0m\u001b[0;34m:\u001b[0m\u001b[0;34m\u001b[0m\u001b[0m\n",
      "\u001b[0;31mIndexError\u001b[0m: list index out of range"
     ]
    }
   ],
   "source": [
    "submission_test = reddit.submission(url='https://www.reddit.com/r/technology/comments/8d2r8/hpux_11i_v3_update_4_to_be_released_tomorrow/')\n",
    "                            \n",
    "submission_test.comments[0]"
   ]
  },
  {
   "cell_type": "code",
   "execution_count": null,
   "metadata": {},
   "outputs": [],
   "source": []
  }
 ],
 "metadata": {
  "kernelspec": {
   "display_name": "Python 3",
   "language": "python",
   "name": "python3"
  },
  "language_info": {
   "codemirror_mode": {
    "name": "ipython",
    "version": 3
   },
   "file_extension": ".py",
   "mimetype": "text/x-python",
   "name": "python",
   "nbconvert_exporter": "python",
   "pygments_lexer": "ipython3",
   "version": "3.6.5"
  }
 },
 "nbformat": 4,
 "nbformat_minor": 2
}
