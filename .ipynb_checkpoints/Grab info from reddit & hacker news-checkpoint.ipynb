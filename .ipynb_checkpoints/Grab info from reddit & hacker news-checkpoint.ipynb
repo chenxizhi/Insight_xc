{
 "cells": [
  {
   "cell_type": "markdown",
   "metadata": {},
   "source": [
    "1) Load company file"
   ]
  },
  {
   "cell_type": "code",
   "execution_count": 1,
   "metadata": {},
   "outputs": [],
   "source": [
    "import os\n",
    "import pandas as pd\n",
    "import numpy as np\n",
    "import matplotlib.pyplot as mpl\n",
    "company = pd.read_csv('crunchbase-companies.csv',encoding='latin-1')"
   ]
  },
  {
   "cell_type": "code",
   "execution_count": 2,
   "metadata": {},
   "outputs": [
    {
     "data": {
      "text/plain": [
       "<matplotlib.axes._subplots.AxesSubplot at 0x116629ef0>"
      ]
     },
     "execution_count": 2,
     "metadata": {},
     "output_type": "execute_result"
    },
    {
     "data": {
      "image/png": "[encoded data removed]",
      "text/plain": [
       "<Figure size 432x288 with 1 Axes>"
      ]
     },
     "metadata": {},
     "output_type": "display_data"
    }
   ],
   "source": [
    "#company.dtypes\n",
    "#company.head()\n",
    "company.category_code.value_counts().plot('barh',fontsize=7)\n"
   ]
  },
  {
   "cell_type": "code",
   "execution_count": 3,
   "metadata": {},
   "outputs": [],
   "source": [
    "software_company = company[company.category_code=='software']"
   ]
  },
  {
   "cell_type": "code",
   "execution_count": 4,
   "metadata": {},
   "outputs": [
    {
     "data": {
      "text/plain": [
       "(2688, 17)"
      ]
     },
     "execution_count": 4,
     "metadata": {},
     "output_type": "execute_result"
    }
   ],
   "source": [
    "#company.category_code\n",
    "import seaborn as sns\n",
    "sns.set(style=\"whitegrid\", color_codes=True)\n",
    "software_company.shape"
   ]
  },
  {
   "cell_type": "markdown",
   "metadata": {},
   "source": [
    "2) Setup API to grab comments from reddit using company name"
   ]
  },
  {
   "cell_type": "code",
   "execution_count": 5,
   "metadata": {},
   "outputs": [],
   "source": [
    "from psaw import PushshiftAPI\n",
    "api = PushshiftAPI()\n",
    "import datetime as dt\n",
    "end_epoch = int(dt.datetime(2013, 10, 1).timestamp())"
   ]
  },
  {
   "cell_type": "code",
   "execution_count": null,
   "metadata": {},
   "outputs": [],
   "source": [
    "company_names = software_company.name\n",
    "\n",
    "reddit = open('company_on_reddit','w')\n",
    "for c in company_names:\n",
    "    comments = []\n",
    "    print (c)\n",
    "    gen_company = api.search_comments(q=c,\n",
    "                                      before=end_epoch,\n",
    "                                      subreddit='business')\n",
    "    result_company = list(gen_company)\n",
    "    num_comments = len(result_company)\n",
    "    if num_comments > 1:\n",
    "        for i in range(0,num_comments-1):\n",
    "                comments.append(result_company[i].d_['body'])\n",
    "    elif num_comments == 1:\n",
    "        comments = result_company[0][12]['body']\n",
    "    else:\n",
    "        num_comments = 0 \n",
    "    to_write = [c, str(num_comments), str(comments)]\n",
    "    reddit.write(\"\\t\".join(to_write)+\"\\n\")\n",
    "    print (to_write)\n",
    "    \n",
    "                \n"
   ]
  },
  {
   "cell_type": "code",
   "execution_count": null,
   "metadata": {},
   "outputs": [],
   "source": [
    "reddit.close()"
   ]
  },
  {
   "cell_type": "code",
   "execution_count": null,
   "metadata": {},
   "outputs": [],
   "source": [
    "company_"
   ]
  }
 ],
 "metadata": {
  "kernelspec": {
   "display_name": "Python 3",
   "language": "python",
   "name": "python3"
  },
  "language_info": {
   "codemirror_mode": {
    "name": "ipython",
    "version": 3
   },
   "file_extension": ".py",
   "mimetype": "text/x-python",
   "name": "python",
   "nbconvert_exporter": "python",
   "pygments_lexer": "ipython3",
   "version": "3.6.5"
  }
 },
 "nbformat": 4,
 "nbformat_minor": 2
}
