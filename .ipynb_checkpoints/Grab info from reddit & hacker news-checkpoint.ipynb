{
 "cells": [
  {
   "cell_type": "markdown",
   "metadata": {},
   "source": [
    "1) Load company file"
   ]
  },
  {
   "cell_type": "code",
   "execution_count": 17,
   "metadata": {},
   "outputs": [],
   "source": [
    "import os\n",
    "import pandas as pd\n",
    "import numpy as np\n",
    "import matplotlib.pyplot as mpl\n",
    "company = pd.read_csv('crunchbase-companies.csv',encoding='latin-1')"
   ]
  },
  {
   "cell_type": "code",
   "execution_count": null,
   "metadata": {},
   "outputs": [],
   "source": [
    "#company.category_code\n",
    "import seaborn as sns\n",
    "sns.set(style=\"whitegrid\", color_codes=True)\n",
    "company['category_code'] = company['category_code'].apply(lambda x: str(x).split())\n",
    "company.category_code.value_counts().apply(tuple).plot(kind='bar')\n"
   ]
  },
  {
   "cell_type": "markdown",
   "metadata": {},
   "source": [
    "2) Setup API to grab comments from reddit using company name"
   ]
  },
  {
   "cell_type": "code",
   "execution_count": null,
   "metadata": {},
   "outputs": [],
   "source": [
    "from psaw import PushshiftAPI\n",
    "api = PushshiftAPI()\n",
    "import datetime as dt\n",
    "end_epoch = int(dt.datetime(2013, 10, 1).timestamp())"
   ]
  },
  {
   "cell_type": "code",
   "execution_count": null,
   "metadata": {},
   "outputs": [],
   "source": [
    "comments = []\n",
    "reddit = open('company_on_reddit','w')\n",
    "for company in company_names:\n",
    "    gen_company = api.search_comments(q=company,\n",
    "                                      before=end_epoch,\n",
    "                                      subreddit='business')\n",
    "    result_company = list(gen_company)\n",
    "    num_comments = len(result_company)\n",
    "    if num_comments > 1:\n",
    "        for i in range(0,num_comments-1):\n",
    "                comments.append(result_company[i].d_['body'])\n",
    "    else:\n",
    "        comments = result_company[0][12]['body']\n",
    "    to_write = [company, num_comments, comments]\n",
    "    reddit.write(\"\\t\".join(to_write)+\"\\n\"))\n",
    "                \n"
   ]
  }
 ],
 "metadata": {
  "kernelspec": {
   "display_name": "Python 3",
   "language": "python",
   "name": "python3"
  },
  "language_info": {
   "codemirror_mode": {
    "name": "ipython",
    "version": 3
   },
   "file_extension": ".py",
   "mimetype": "text/x-python",
   "name": "python",
   "nbconvert_exporter": "python",
   "pygments_lexer": "ipython3",
   "version": "3.6.5"
  }
 },
 "nbformat": 4,
 "nbformat_minor": 2
}
